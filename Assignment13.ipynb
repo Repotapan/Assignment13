{
 "cells": [
  {
   "cell_type": "raw",
   "id": "7346bef5-4795-4999-9eee-7e26dcaa037f",
   "metadata": {},
   "source": [
    "1)Explain why we have to use the Exception class while creating a Custom Exception?"
   ]
  },
  {
   "cell_type": "markdown",
   "id": "0d64b4b4-7007-4b55-9871-17840e476a28",
   "metadata": {},
   "source": [
    "When creating a custom exception, we need to inherit from the base Exception class because it provides the fundamental properties and behaviors of an exception, such as a message and a stack trace. By inheriting from the Exception class, our custom exception can use these properties and behaviors and inherit methods like __str__ and __repr__ to control how the exception is displayed.\n",
    "When creating a custom exception, we need to inherit from the base Exception class because it provides the fundamental properties and behaviors of an exception, such as a message and a stack trace. By inheriting from the Exception class, our custom exception can use these properties and behaviors and inherit methods like __str__ and __repr__ to control how the exception is displayed.\n",
    "Overall, using the Exception class as the base class for our custom exception provides us with a consistent and standardized way to create, handle, and display exceptions in our code."
   ]
  },
  {
   "cell_type": "raw",
   "id": "6ceaa83b-eba2-4de9-834f-5f3a1b5f085d",
   "metadata": {},
   "source": [
    "2)Write a python program to print Python Exception Hierarchy?"
   ]
  },
  {
   "cell_type": "code",
   "execution_count": 1,
   "id": "f31126c5-26bb-4d53-adc4-32a779eafc2c",
   "metadata": {},
   "outputs": [],
   "source": [
    "import logging"
   ]
  },
  {
   "cell_type": "code",
   "execution_count": 2,
   "id": "6c909358-71fa-40d2-bdea-656135644ae6",
   "metadata": {},
   "outputs": [],
   "source": [
    "logging.basicConfig(filename=\"hierarchy.log\",level=logging.DEBUG)"
   ]
  },
  {
   "cell_type": "code",
   "execution_count": 3,
   "id": "013363ad-bd20-4e5d-b0c6-d77f8961eb56",
   "metadata": {},
   "outputs": [],
   "source": [
    "def exception_hierarchy(exceptions, level=0):\n",
    "    for exception in exceptions:\n",
    "        logging.info('\\t' * level + exception.__name__)\n",
    "        if exception.__subclasses__():\n",
    "            exception_hierarchy(exception.__subclasses__(), level + 1)\n",
    "\n",
    "exception_hierarchy([BaseException])\n"
   ]
  },
  {
   "cell_type": "raw",
   "id": "afdd1aa4-77de-4495-8dea-6b13b4169633",
   "metadata": {},
   "source": [
    "3)What errors are defined in the ArithmeticError class? Explain any two with an example?"
   ]
  },
  {
   "cell_type": "markdown",
   "id": "e7e34d81-f0bd-4938-8b56-72e7b3150ebd",
   "metadata": {},
   "source": [
    "The ArithmeticError class is the base class for all exceptions that occur during arithmetic operations. Some of the errors that are defined in the ArithmeticError class or its subclasses include:\n",
    "ZeroDivisionError: Raised when division or modulo by zero is encountered.\n",
    "OverflowError: Raised when the result of an arithmetic operation is too large to be represented.\n",
    "FloatingPointError: Raised when a floating point operation fails, such as when an invalid operation is performed on a NaN or infinity value.\n",
    "Other exceptions that inherit from ArithmeticError include AssertionError, EnvironmentError, FloatingPointError, and ImportError, among others."
   ]
  },
  {
   "cell_type": "code",
   "execution_count": 5,
   "id": "7195b8f5-af4c-4118-9f83-9443d343543d",
   "metadata": {},
   "outputs": [],
   "source": [
    "#ZeroDivisionError\n",
    "try:\n",
    "    10/0\n",
    "except ZeroDivisionError as e:\n",
    "    logging.info(e)"
   ]
  },
  {
   "cell_type": "code",
   "execution_count": 7,
   "id": "b1eb57ab-3172-4162-9be6-74e8f2fc7c68",
   "metadata": {},
   "outputs": [],
   "source": [
    "#Floating_point_error\n",
    "try:\n",
    "    10.2-10.0\n",
    "except FloatingPointError as e:\n",
    "    logging.info(e)"
   ]
  },
  {
   "cell_type": "raw",
   "id": "de86441d-eadc-4a8e-9e1a-c9add8052770",
   "metadata": {},
   "source": [
    "4)Why LookupError class is used? Explain with an example KeyError and IndexError?\n"
   ]
  },
  {
   "cell_type": "markdown",
   "id": "aff71eb7-1cd5-49d9-898d-1937bba0883e",
   "metadata": {},
   "source": [
    "The LookupError class is used as a base class for exceptions that occur when a key or index is not found in a collection or mapping. This includes the KeyError and IndexError exceptions, among others.\n",
    "KeyError is raised when trying to access a key in a dictionary or similar mapping that does not exist.\n",
    "Example:"
   ]
  },
  {
   "cell_type": "code",
   "execution_count": 11,
   "id": "4e10cdd6-eb30-42b9-945f-86aa469a8ae8",
   "metadata": {},
   "outputs": [],
   "source": [
    "#keyError\n",
    "try:\n",
    "    d={\"key1\":\"tapan\",\"key2\":\"pati\",1:[3,4,56,8]}\n",
    "    logging.info(d[\"key3\"])\n",
    "except KeyError as k:\n",
    "    logging.info(k)\n",
    "    "
   ]
  },
  {
   "cell_type": "markdown",
   "id": "3a6e7d35-a27f-49a8-b1f3-1c62335675d0",
   "metadata": {},
   "source": [
    "IndexError, on the other hand, is raised when trying to access an index in a sequence or list that does not exist.\n",
    "Example:"
   ]
  },
  {
   "cell_type": "code",
   "execution_count": 12,
   "id": "8badcaff-2d9f-41b0-97bc-2ab63e36a47b",
   "metadata": {},
   "outputs": [],
   "source": [
    "#Indexerror\n",
    "try:\n",
    "    l=[1,2,3,4]\n",
    "    logging.error(l[6])\n",
    "except IndexError as i:\n",
    "    logging.error(i)"
   ]
  },
  {
   "cell_type": "raw",
   "id": "ebfedcaa-d5be-44e9-9393-872744b35edd",
   "metadata": {},
   "source": [
    "5) Explain ImportError. What is ModuleNotFoundError? "
   ]
  },
  {
   "cell_type": "markdown",
   "id": "3c6c65d3-093a-4b33-a810-a87161d84f49",
   "metadata": {},
   "source": [
    "ImportError is an exception that is raised when there is an error while trying to import a module. This can occur for a variety of reasons, such as when the module does not exist, is not on the PYTHONPATH, or has syntax errors.\n",
    "ModuleNotFoundError is a subclass of ImportError that is raised specifically when a module cannot be found. It was introduced in Python 3.6 as a more specific and clearer version of the ImportError exception. Prior to Python 3.6, the ImportError exception was used for both cases of import failures: when the module could not be found and when there were other errors while trying to import the module."
   ]
  },
  {
   "cell_type": "code",
   "execution_count": 15,
   "id": "62c73230-1d58-4a12-b289-08b94296b96b",
   "metadata": {},
   "outputs": [],
   "source": [
    "try:\n",
    "    import non_existent_module\n",
    "except ImportError:\n",
    "    logging.info(\"An error occurred while importing the module.\")\n",
    "    \n",
    "try:\n",
    "    import missing_submodule.submodule2\n",
    "except ModuleNotFoundError:\n",
    "    logging.info(\"The specified module or submodule could not be found.\")\n"
   ]
  },
  {
   "cell_type": "raw",
   "id": "9db6e49e-b0cc-496c-9aa4-3b91c65534cc",
   "metadata": {},
   "source": [
    "6) List down some best practices for exception handling in python?"
   ]
  },
  {
   "cell_type": "code",
   "execution_count": 14,
   "id": "dc2b8767-0f97-4624-b472-97a9dbf496c1",
   "metadata": {},
   "outputs": [],
   "source": [
    "#Always try to specific an exception\n",
    "try:\n",
    "    10/0\n",
    "except ZeroDivisionError as e:\n",
    "    logging.info(e)"
   ]
  },
  {
   "cell_type": "code",
   "execution_count": 17,
   "id": "8f1ce57f-ba8a-47df-a031-61695d2f5139",
   "metadata": {},
   "outputs": [],
   "source": [
    "#Always print a proper message\n",
    "try:\n",
    "    10/0\n",
    "except ZeroDivisionError as e:\n",
    "    logging.info(\"i want to find zerodivisionerror {} \".format(e))"
   ]
  },
  {
   "cell_type": "code",
   "execution_count": 18,
   "id": "661aae93-4e65-4a07-b107-528fa80d7ceb",
   "metadata": {},
   "outputs": [],
   "source": [
    "#Always use logging instead of print\n",
    "try:\n",
    "    10/0\n",
    "except ZeroDivisionError as e:\n",
    "    logging.info(\"i want to find zerodivisionerror {} \".format(e))"
   ]
  },
  {
   "cell_type": "code",
   "execution_count": 19,
   "id": "1a041728-6e99-4da4-add0-c0a36b96be6e",
   "metadata": {},
   "outputs": [],
   "source": [
    "#Always avoid writing multiple exception \n",
    "try:\n",
    "    10/0\n",
    "except FileNotFoundError as e:\n",
    "    logging.error(\"i am trying to find filenotfound error {}\".format(e))\n",
    "except AttributeError as e:\n",
    "    logging.error(\"i am trying to find attributeerror {}\".format(e))\n",
    "except ZeroDivisionError as e:\n",
    "    logging.error(\"i am trying to find Zerodivision error{}\".format(e))\n"
   ]
  },
  {
   "cell_type": "code",
   "execution_count": 23,
   "id": "6169be61-cb94-4424-a7c9-5cac42c470ad",
   "metadata": {},
   "outputs": [],
   "source": [
    "# Document all the error\n",
    "#clenup all the resources\n",
    "try:\n",
    "    with open(\"test.txt\",\"w\") as f:\n",
    "        f.write(\"this is my data to file \")\n",
    "except FileNotFoundError as e:\n",
    "    logging.error(\"i am handling file not found{}\".format(e))\n",
    "finally:\n",
    "    f.close()"
   ]
  },
  {
   "cell_type": "code",
   "execution_count": null,
   "id": "ceba0f5f-871f-4522-b662-85a1a63df7f9",
   "metadata": {},
   "outputs": [],
   "source": []
  }
 ],
 "metadata": {
  "kernelspec": {
   "display_name": "Python 3 (ipykernel)",
   "language": "python",
   "name": "python3"
  },
  "language_info": {
   "codemirror_mode": {
    "name": "ipython",
    "version": 3
   },
   "file_extension": ".py",
   "mimetype": "text/x-python",
   "name": "python",
   "nbconvert_exporter": "python",
   "pygments_lexer": "ipython3",
   "version": "3.10.8"
  }
 },
 "nbformat": 4,
 "nbformat_minor": 5
}
